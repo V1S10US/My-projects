{
  "cells": [
    {
      "cell_type": "markdown",
      "metadata": {
        "id": "view-in-github",
        "colab_type": "text"
      },
      "source": [
        "<a href=\"https://colab.research.google.com/github/V1S10US/My-projects/blob/main/shows.ipynb\" target=\"_parent\"><img src=\"https://colab.research.google.com/assets/colab-badge.svg\" alt=\"Open In Colab\"/></a>"
      ]
    },
    {
      "cell_type": "code",
      "execution_count": null,
      "metadata": {
        "scrolled": true,
        "tags": [],
        "id": "F20hzvHApUiB"
      },
      "outputs": [],
      "source": [
        "!pip install pyspark"
      ]
    },
    {
      "cell_type": "code",
      "execution_count": null,
      "metadata": {
        "id": "-s4qz5gMpUiC"
      },
      "outputs": [],
      "source": [
        "from pyspark.sql import SparkSession\n",
        "from pyspark.sql import functions as F\n",
        "from pyspark.sql.functions import from_unixtime\n",
        "spark = SparkSession \\\n",
        "    .builder \\\n",
        "    .appName(\"Python Spark SQL shows\") \\\n",
        "    .getOrCreate()"
      ]
    },
    {
      "cell_type": "markdown",
      "metadata": {
        "id": "gZsJYiwbpUiD"
      },
      "source": [
        "**Collecting data**"
      ]
    },
    {
      "cell_type": "code",
      "execution_count": null,
      "metadata": {
        "id": "Z7b7Wa7HpUiE"
      },
      "outputs": [],
      "source": [
        "df = spark.read.json(\"feeds_show.json\")\n",
        "df.createOrReplaceTempView(\"shows\")"
      ]
    },
    {
      "cell_type": "markdown",
      "metadata": {
        "id": "c0rJNjB7pUiE"
      },
      "source": [
        "**1. Data structure**\n",
        "\n"
      ]
    },
    {
      "cell_type": "markdown",
      "metadata": {
        "id": "BjMbxIaPpUiE"
      },
      "source": [
        "![shows_diagram.png](attachment:f23798be-4539-412e-ba49-fc8fd88201d3.png)"
      ]
    },
    {
      "cell_type": "code",
      "execution_count": null,
      "metadata": {
        "id": "A6r6Z1IHpUiE",
        "outputId": "ce954130-09e8-4fba-f759-3ee86c9e5140"
      },
      "outputs": [
        {
          "name": "stdout",
          "output_type": "stream",
          "text": [
            "root\n",
            " |-- durationMs: long (nullable = true)\n",
            " |-- owners: struct (nullable = true)\n",
            " |    |-- group: array (nullable = true)\n",
            " |    |    |-- element: long (containsNull = true)\n",
            " |    |-- user: array (nullable = true)\n",
            " |    |    |-- element: long (containsNull = true)\n",
            " |-- platform: string (nullable = true)\n",
            " |-- position: long (nullable = true)\n",
            " |-- resources: struct (nullable = true)\n",
            " |    |-- GROUP_PHOTO: array (nullable = true)\n",
            " |    |    |-- element: long (containsNull = true)\n",
            " |    |-- MOVIE: array (nullable = true)\n",
            " |    |    |-- element: long (containsNull = true)\n",
            " |    |-- POST: array (nullable = true)\n",
            " |    |    |-- element: long (containsNull = true)\n",
            " |    |-- USER_PHOTO: array (nullable = true)\n",
            " |    |    |-- element: long (containsNull = true)\n",
            " |-- timestamp: long (nullable = true)\n",
            " |-- userId: long (nullable = true)\n",
            "\n"
          ]
        }
      ],
      "source": [
        "df.printSchema()"
      ]
    },
    {
      "cell_type": "code",
      "execution_count": null,
      "metadata": {
        "id": "PoeVqqQfpUiF",
        "outputId": "3bf0e833-e926-4ec7-90b1-45c69fe3d495"
      },
      "outputs": [
        {
          "name": "stdout",
          "output_type": "stream",
          "text": [
            "+----------+---------------+-----------+--------+--------------------+-------------+------+\n",
            "|durationMs|         owners|   platform|position|           resources|    timestamp|userId|\n",
            "+----------+---------------+-----------+--------+--------------------+-------------+------+\n",
            "|      3732|{[47480], null}|APP_ANDROID|       7|{[13677], null, [...|1568296060000|  9058|\n",
            "|      2013|{[55199], null}|DESKTOP_WEB|     248|{[49831, 6529, 80...|1568309587531| 45484|\n",
            "|     10002|{null, [42086]}| MOBILE_WEB|      22|{null, null, null...|1568313211000| 48050|\n",
            "|      2362|   {null, null}|DESKTOP_WEB|       8|{null, null, null...|1568301868110| 51770|\n",
            "|       312|   {null, null}|DESKTOP_WEB|      38|{null, null, null...|1568260084519|  8812|\n",
            "|      1030|   {null, null}|DESKTOP_WEB|     582|{null, null, null...|1568305290524| 18371|\n",
            "|      1510|{[34222], null}|APP_ANDROID|      82|{[42893], null, [...|1568282434000| 39935|\n",
            "|      2657|{null, [46445]}|APP_ANDROID|       2|{null, null, null...|1568310788000| 46803|\n",
            "|      2225|   {null, null}|APP_ANDROID|       8|{null, null, null...|1568283109000| 41138|\n",
            "|      6284|{null, [37950]}|APP_ANDROID|      24|{null, null, null...|1568315063000| 21579|\n",
            "|       749|{[46050], null}|APP_ANDROID|      17|{[1606], null, [8...|1568308434000| 48180|\n",
            "|     38989|   {null, null}|APP_ANDROID|      10|{null, null, null...|1568308535000| 21119|\n",
            "|      7529|{[44885], null}|APP_ANDROID|      26|{[8944], null, [5...|1568294136000| 49090|\n",
            "|      1968|{[11879], null}|DESKTOP_WEB|      21|{[50894], null, [...|1568282505392| 56665|\n",
            "|     75495|{null, [50690]}|APP_ANDROID|      53|{null, null, null...|1568292214000| 50581|\n",
            "|      1966|   {null, null}|APP_ANDROID|      42|{null, null, null...|1568296576000| 44407|\n",
            "|      7374| {[2063], null}|    APP_IOS|     185|{[43322], null, [...|1568302790000| 14597|\n",
            "|     35126|   {null, null}|APP_ANDROID|      21|{null, null, null...|1568282191000| 21783|\n",
            "|      4073|{null, [35877]}|DESKTOP_WEB|       1|{null, null, null...|1568300665667| 51770|\n",
            "|      3032|   {null, null}|DESKTOP_WEB|      92|{null, null, null...|1568307914708| 52525|\n",
            "+----------+---------------+-----------+--------+--------------------+-------------+------+\n",
            "only showing top 20 rows\n",
            "\n"
          ]
        }
      ],
      "source": [
        "df.sample(0.05).show()"
      ]
    },
    {
      "cell_type": "markdown",
      "metadata": {
        "id": "m0HaU8TepUiG"
      },
      "source": [
        "**Converting to date**\n",
        "\n",
        "Convert TIMESTAMP to DATETIME for more convenient partitioning by date"
      ]
    },
    {
      "cell_type": "code",
      "execution_count": null,
      "metadata": {
        "id": "yK61qGzFpUiG",
        "outputId": "92935c0a-9b88-4b9b-efbc-5354b0c3c23b"
      },
      "outputs": [
        {
          "name": "stdout",
          "output_type": "stream",
          "text": [
            "+----------+---------------+-----------+--------+--------------------+-------------+------+----------+\n",
            "|durationMs|         owners|   platform|position|           resources|    timestamp|userId| show_date|\n",
            "+----------+---------------+-----------+--------+--------------------+-------------+------+----------+\n",
            "|      1150|   {null, null}|APP_ANDROID|       4|{null, null, null...|1568317626000| 37686|2019-09-12|\n",
            "|      3717|{[21055], null}|APP_ANDROID|     155|{null, [44250], [...|1568300551000| 21783|2019-09-12|\n",
            "|      4208|{null, [50893]}|APP_ANDROID|      42|{null, null, null...|1568310811000| 50581|2019-09-12|\n",
            "|      1787|   {null, null}|DESKTOP_WEB|      41|{null, null, null...|1568314907726| 27444|2019-09-12|\n",
            "|      1254|   {null, null}|APP_ANDROID|      34|{null, null, null...|1568291064000| 56550|2019-09-12|\n",
            "|      3331| {null, [3805]}|APP_ANDROID|      55|{null, null, [455...|1568266060000| 39935|2019-09-12|\n",
            "|      8143|{[45075], null}|APP_ANDROID|      40|{[4724], null, [1...|1568252216000| 50802|2019-09-12|\n",
            "|      1381|{null, [31900]}|APP_ANDROID|      34|{null, null, null...|1568266022000| 15900|2019-09-12|\n",
            "|     45960|   {null, null}|APP_ANDROID|      31|{null, null, null...|1568314246000| 50581|2019-09-12|\n",
            "|      1288|{[32831], null}|APP_ANDROID|     391|{[50624], null, [...|1568290358000| 50302|2019-09-12|\n",
            "|       773|{[30145], null}|APP_ANDROID|     345|{[12679], null, [...|1568313742000|  7572|2019-09-12|\n",
            "|      6947|{[36999], null}|DESKTOP_WEB|      71|{null, [46909], n...|1568282828490| 52504|2019-09-12|\n",
            "|      6739|{null, [31879]}|DESKTOP_WEB|      19|{null, [49043], [...|1568290329215| 52525|2019-09-12|\n",
            "|     10000|{null, [51719]}|DESKTOP_WEB|    null|{null, null, null...|1568293615986| 54581|2019-09-12|\n",
            "|       307|   {null, null}|DESKTOP_WEB|      41|{null, [20851, 46...|1568260085193|  8812|2019-09-12|\n",
            "|      3732|{[47480], null}|APP_ANDROID|       7|{[13677], null, [...|1568296060000|  9058|2019-09-12|\n",
            "|      1307|   {null, null}| MOBILE_WEB|      16|{null, null, null...|1568270315000| 16782|2019-09-12|\n",
            "|       794|{[50927], null}|DESKTOP_WEB|     104|{[57803], null, [...|1568260247540|  8812|2019-09-12|\n",
            "|       945| {[6250], null}|APP_ANDROID|     109|{[52103], null, [...|1568311865000|  7572|2019-09-12|\n",
            "|      1438|{[34759], null}|APP_ANDROID|     540|{[26896], null, [...|1568264535000| 21293|2019-09-12|\n",
            "+----------+---------------+-----------+--------+--------------------+-------------+------+----------+\n",
            "only showing top 20 rows\n",
            "\n"
          ]
        }
      ],
      "source": [
        "dated_df = df.select('*', from_unixtime(F.col('timestamp') / 1000, format=\"yyyy-MM-dd\").alias('show_date'))\n",
        "dated_df.createOrReplaceTempView(\"d_shows\")\n",
        "dated_df.show()"
      ]
    },
    {
      "cell_type": "markdown",
      "metadata": {
        "id": "2HWlSZXKpUiG"
      },
      "source": [
        "**2. Tests**"
      ]
    },
    {
      "cell_type": "code",
      "execution_count": null,
      "metadata": {
        "id": "XATwYxMOpUiG",
        "outputId": "14c0cc6a-ee63-4414-9fe7-b0dff59ac28d"
      },
      "outputs": [
        {
          "name": "stdout",
          "output_type": "stream",
          "text": [
            "+----------+---------------+------------+--------+--------------------+-------------+------+----------+\n",
            "|durationMs|         owners|    platform|position|           resources|    timestamp|userId| show_date|\n",
            "+----------+---------------+------------+--------+--------------------+-------------+------+----------+\n",
            "|      null|{null, [12584]}| APP_ANDROID|     387|{null, null, [378...|1568319932000| 37401|2019-09-12|\n",
            "|      null|   {null, null}| APP_ANDROID|      88|{null, null, null...|1568308319000|  4795|2019-09-12|\n",
            "|      null|{null, [12933]}| APP_ANDROID|      25|{null, [54010], [...|1568257722000| 37401|2019-09-12|\n",
            "|      null|{null, [57094]}| APP_ANDROID|      37|{null, null, null...|1568257764000| 37401|2019-09-12|\n",
            "|      null|{[56161], null}| APP_ANDROID|     310|{null, [29708], [...|1568319891000| 37401|2019-09-12|\n",
            "|      null|   {null, null}| APP_ANDROID|      57|{null, null, null...|1568319602000| 37401|2019-09-12|\n",
            "|      null|   {null, null}| APP_ANDROID|      30|{null, null, null...|1568275380000|  4795|2019-09-12|\n",
            "|      null|{[44299], null}|APP_WINPHONE|      25|{[34344], null, [...|1568310670000| 54320|2019-09-12|\n",
            "|      null| {[1451], null}| APP_ANDROID|      92|{[17562], null, [...|1568257909000| 37401|2019-09-12|\n",
            "|      null|   {null, null}| APP_ANDROID|     380|{null, null, null...|1568319920000| 37401|2019-09-12|\n",
            "|      null|{null, [36844]}| APP_ANDROID|      18|{[4592], null, [4...|1568314937000|  4795|2019-09-12|\n",
            "|      null| {[1907], null}| APP_ANDROID|     354|{null, null, [922...|1568319905000| 37401|2019-09-12|\n",
            "|      null|{[54816], null}| APP_ANDROID|      42|{null, null, [197...|1568258067000| 37401|2019-09-12|\n",
            "|      null| {null, [8520]}|APP_WINPHONE|      35|{null, [40461], [...|1568310783000| 54320|2019-09-12|\n",
            "|      null|{[27132], null}| APP_ANDROID|      48|{[52437], null, [...|1568307759000|  4795|2019-09-12|\n",
            "|      null|{null, [46785]}| APP_ANDROID|      20|{null, null, [560...|1568314937000|  4795|2019-09-12|\n",
            "|      null|{null, [36844]}| APP_ANDROID|       1|{null, null, [215...|1568307637000|  4795|2019-09-12|\n",
            "|      null|{null, [50353]}|APP_WINPHONE|       3|{null, null, null...|1568310670000| 54320|2019-09-12|\n",
            "|      null|   {null, null}| APP_ANDROID|       7|{null, null, null...|1568275356000|  4795|2019-09-12|\n",
            "|      null|{null, [36844]}| APP_ANDROID|      14|{null, null, [719...|1568307655000|  4795|2019-09-12|\n",
            "+----------+---------------+------------+--------+--------------------+-------------+------+----------+\n",
            "only showing top 20 rows\n",
            "\n"
          ]
        }
      ],
      "source": [
        "spark.sql('SELECT * FROM d_shows WHERE durationMs IS NULL').show() # expected: empty table"
      ]
    },
    {
      "cell_type": "code",
      "execution_count": null,
      "metadata": {
        "id": "olWJtXMkpUiH",
        "outputId": "c9c0b20a-b245-4405-c0fd-301f377d7150"
      },
      "outputs": [
        {
          "name": "stdout",
          "output_type": "stream",
          "text": [
            "+----------+---------------+-----------+--------+--------------------+-------------+------+----------+\n",
            "|durationMs|         owners|   platform|position|           resources|    timestamp|userId| show_date|\n",
            "+----------+---------------+-----------+--------+--------------------+-------------+------+----------+\n",
            "|     10000|{null, [51719]}|DESKTOP_WEB|    null|{null, null, null...|1568293615986| 54581|2019-09-12|\n",
            "|       926|   {null, null}|    APP_IOS|    null|{null, null, null...|1568257315000| 39866|2019-09-12|\n",
            "|      1178|   {null, null}|DESKTOP_WEB|    null|{null, null, null...|1568307826648|  2499|2019-09-12|\n",
            "|      1790|   {null, null}|DESKTOP_WEB|    null|{null, null, null...|1568287701318| 53335|2019-09-12|\n",
            "|     10000|   {null, null}|DESKTOP_WEB|    null|{null, null, null...|1568297057802| 53915|2019-09-12|\n",
            "|      3219|   {null, null}|APP_ANDROID|    null|{null, null, null...|1568281855000|   434|2019-09-12|\n",
            "|     10000|   {null, null}|DESKTOP_WEB|    null|{null, null, null...|1568274800278| 42146|2019-09-12|\n",
            "|     10438|   {null, null}|APP_ANDROID|    null|{null, null, null...|1568316645000|  2306|2019-09-12|\n",
            "|      4203|   {null, null}|APP_ANDROID|    null|{null, null, null...|1568311962000| 30625|2019-09-12|\n",
            "|      4162|   {null, null}|APP_ANDROID|    null|{null, null, null...|1568262288000| 55055|2019-09-12|\n",
            "|      2378|   {null, null}|APP_ANDROID|    null|{null, null, null...|1568310467000| 21153|2019-09-12|\n",
            "|     10000|   {null, null}|DESKTOP_WEB|    null|{null, null, null...|1568300249785| 18371|2019-09-12|\n",
            "|      1066|   {null, null}|DESKTOP_WEB|    null|{null, null, null...|1568286389320| 53335|2019-09-12|\n",
            "|      2712|   {null, null}|    APP_IOS|    null|{null, null, null...|1568293371000| 47002|2019-09-12|\n",
            "|      5150|   {null, null}|DESKTOP_WEB|    null|{null, null, null...|1568296070667| 54581|2019-09-12|\n",
            "|     10000|   {null, null}|DESKTOP_WEB|    null|{null, null, null...|1568292442704|  7562|2019-09-12|\n",
            "|     10000|   {null, null}|DESKTOP_WEB|    null|{null, null, null...|1568273379064| 16217|2019-09-12|\n",
            "|     10000|{null, [38036]}|DESKTOP_WEB|    null|{null, null, null...|1568297550239|  7540|2019-09-12|\n",
            "|      3345|{null, [12311]}| MOBILE_WEB|    null|{null, null, null...|1568293592000| 19033|2019-09-12|\n",
            "|      7028|   {null, null}|APP_ANDROID|    null|{null, null, null...|1568288974000| 49090|2019-09-12|\n",
            "+----------+---------------+-----------+--------+--------------------+-------------+------+----------+\n",
            "only showing top 20 rows\n",
            "\n"
          ]
        }
      ],
      "source": [
        "spark.sql('SELECT * FROM d_shows WHERE position IS NULL').show() # expected: empty table"
      ]
    },
    {
      "cell_type": "code",
      "execution_count": null,
      "metadata": {
        "id": "SVwRiReGpUiH",
        "outputId": "9de7d2d2-108a-4674-8bab-ef15869e5eb8"
      },
      "outputs": [
        {
          "name": "stdout",
          "output_type": "stream",
          "text": [
            "+----------+------+--------+--------+---------+---------+------+---------+\n",
            "|durationMs|owners|platform|position|resources|timestamp|userId|show_date|\n",
            "+----------+------+--------+--------+---------+---------+------+---------+\n",
            "+----------+------+--------+--------+---------+---------+------+---------+\n",
            "\n"
          ]
        }
      ],
      "source": [
        "spark.sql('SELECT * FROM d_shows WHERE userId IS NULL').show() # expected: empty table"
      ]
    },
    {
      "cell_type": "code",
      "execution_count": null,
      "metadata": {
        "id": "c5aJJOIYpUiH",
        "outputId": "f118f08f-f4b0-4c72-86da-36aca1eead2b"
      },
      "outputs": [
        {
          "name": "stdout",
          "output_type": "stream",
          "text": [
            "+----------+------------+-----------+--------+--------------------+-------------+------+----------+\n",
            "|durationMs|      owners|   platform|position|           resources|    timestamp|userId| show_date|\n",
            "+----------+------------+-----------+--------+--------------------+-------------+------+----------+\n",
            "|      1150|{null, null}|APP_ANDROID|       4|{null, null, null...|1568317626000| 37686|2019-09-12|\n",
            "|      1787|{null, null}|DESKTOP_WEB|      41|{null, null, null...|1568314907726| 27444|2019-09-12|\n",
            "|      1254|{null, null}|APP_ANDROID|      34|{null, null, null...|1568291064000| 56550|2019-09-12|\n",
            "|     45960|{null, null}|APP_ANDROID|      31|{null, null, null...|1568314246000| 50581|2019-09-12|\n",
            "|       307|{null, null}|DESKTOP_WEB|      41|{null, [20851, 46...|1568260085193|  8812|2019-09-12|\n",
            "|      1307|{null, null}| MOBILE_WEB|      16|{null, null, null...|1568270315000| 16782|2019-09-12|\n",
            "|      1035|{null, null}|APP_ANDROID|      12|{null, null, null...|1568273782000| 40546|2019-09-12|\n",
            "|       755|{null, null}|APP_ANDROID|      10|{null, null, null...|1568311776000| 34136|2019-09-12|\n",
            "|      1271|{null, null}|DESKTOP_WEB|       3|{null, null, null...|1568301715974| 51770|2019-09-12|\n",
            "|      1023|{null, null}|APP_ANDROID|     299|{null, null, null...|1568312874000|  7572|2019-09-12|\n",
            "|     15345|{null, null}|APP_ANDROID|       9|{null, null, null...|1568317686000| 12038|2019-09-12|\n",
            "|      9586|{null, null}|APP_ANDROID|      25|{null, null, null...|1568273601000| 50302|2019-09-12|\n",
            "|      null|{null, null}|APP_ANDROID|      88|{null, null, null...|1568308319000|  4795|2019-09-12|\n",
            "|      1850|{null, null}|APP_ANDROID|       5|{null, null, null...|1568259471000| 31788|2019-09-12|\n",
            "|       926|{null, null}|    APP_IOS|    null|{null, null, null...|1568257315000| 39866|2019-09-12|\n",
            "|      1414|{null, null}|APP_ANDROID|       4|{null, null, null...|1568299821000| 45730|2019-09-12|\n",
            "|      1215|{null, null}|DESKTOP_WEB|     121|{null, null, null...|1568304322078| 52525|2019-09-12|\n",
            "|       566|{null, null}|APP_ANDROID|     169|{null, null, null...|1568259278000| 33681|2019-09-12|\n",
            "|      1363|{null, null}|APP_ANDROID|       9|{null, null, null...|1568271424000| 23649|2019-09-12|\n",
            "|       779|{null, null}|DESKTOP_WEB|      34|{null, null, null...|1568308593707| 45484|2019-09-12|\n",
            "+----------+------------+-----------+--------+--------------------+-------------+------+----------+\n",
            "only showing top 20 rows\n",
            "\n"
          ]
        }
      ],
      "source": [
        "spark.sql('SELECT * FROM d_shows WHERE (owners.group IS NULL AND owners.user IS NULL)').show() # expected: empty table"
      ]
    },
    {
      "cell_type": "code",
      "execution_count": null,
      "metadata": {
        "id": "xAjuo0MMpUiH",
        "outputId": "b76f3e46-bf13-43fa-f1ae-b2a568bdce20"
      },
      "outputs": [
        {
          "data": {
            "text/plain": [
              "53"
            ]
          },
          "execution_count": 275,
          "metadata": {},
          "output_type": "execute_result"
        }
      ],
      "source": [
        "dated_df.count() - dated_df.drop_duplicates().count() # expected: 0"
      ]
    },
    {
      "cell_type": "markdown",
      "metadata": {
        "id": "yfu7oM8NpUiI"
      },
      "source": [
        "**3.a Amount of feeds a day on each platform**"
      ]
    },
    {
      "cell_type": "code",
      "execution_count": null,
      "metadata": {
        "id": "m9n7Nlv2pUiI",
        "outputId": "d72623af-7564-42d7-eb2b-a2d5c4a88c09"
      },
      "outputs": [
        {
          "name": "stdout",
          "output_type": "stream",
          "text": [
            "+------------+-----+\n",
            "|    platform|count|\n",
            "+------------+-----+\n",
            "|  MOBILE_WEB| 1378|\n",
            "| APP_ANDROID|19871|\n",
            "|     APP_IOS| 2470|\n",
            "| DESKTOP_WEB|10352|\n",
            "|APP_WINPHONE|  247|\n",
            "|     SUMMARY|34318|\n",
            "+------------+-----+\n",
            "\n"
          ]
        }
      ],
      "source": [
        "dated_df.groupBy(dated_df['platform']).count().union(spark.sql('SELECT \"SUMMARY\", COUNT(*) FROM d_shows')).show()"
      ]
    },
    {
      "cell_type": "markdown",
      "metadata": {
        "id": "_gDC7E29pUiI"
      },
      "source": [
        "Complexity: Depends on query plan"
      ]
    },
    {
      "cell_type": "markdown",
      "metadata": {
        "id": "xow0aTmupUiI"
      },
      "source": [
        "**3.a Amount of unique users a day**"
      ]
    },
    {
      "cell_type": "code",
      "execution_count": null,
      "metadata": {
        "id": "igCieVeSpUiJ",
        "outputId": "a7293221-5152-4586-84ed-f295ac611125"
      },
      "outputs": [
        {
          "data": {
            "text/plain": [
              "16"
            ]
          },
          "execution_count": 145,
          "metadata": {},
          "output_type": "execute_result"
        }
      ],
      "source": [
        "spark.sql('SELECT DISTINCT userId FROM d_shows WHERE platform = \"MOBILE_WEB\"').count()"
      ]
    },
    {
      "cell_type": "code",
      "execution_count": null,
      "metadata": {
        "id": "OFiES3ippUiJ",
        "outputId": "b3294723-f1a0-4218-db7a-72fdbd017267"
      },
      "outputs": [
        {
          "data": {
            "text/plain": [
              "114"
            ]
          },
          "execution_count": 146,
          "metadata": {},
          "output_type": "execute_result"
        }
      ],
      "source": [
        "spark.sql('SELECT DISTINCT userId FROM d_shows WHERE platform = \"APP_ANDROID\"').count()"
      ]
    },
    {
      "cell_type": "code",
      "execution_count": null,
      "metadata": {
        "id": "vpO2dZ2QpUiJ",
        "outputId": "25e00cba-ecca-40c8-c4e9-6f20cafcc170"
      },
      "outputs": [
        {
          "data": {
            "text/plain": [
              "26"
            ]
          },
          "execution_count": 148,
          "metadata": {},
          "output_type": "execute_result"
        }
      ],
      "source": [
        "spark.sql('SELECT DISTINCT userId FROM d_shows WHERE platform = \"APP_IOS\"').count()"
      ]
    },
    {
      "cell_type": "code",
      "execution_count": null,
      "metadata": {
        "id": "YdAxqoRvpUiJ",
        "outputId": "a2fc548e-0d84-4216-e380-e504e870f675"
      },
      "outputs": [
        {
          "data": {
            "text/plain": [
              "55"
            ]
          },
          "execution_count": 147,
          "metadata": {},
          "output_type": "execute_result"
        }
      ],
      "source": [
        "spark.sql('SELECT DISTINCT userId FROM d_shows WHERE platform = \"DESKTOP_WEB\"').count()"
      ]
    },
    {
      "cell_type": "code",
      "execution_count": null,
      "metadata": {
        "id": "0FhibZdZpUiK",
        "outputId": "d6dd495e-5d0e-4301-fa7f-1e4f65f5750c"
      },
      "outputs": [
        {
          "data": {
            "text/plain": [
              "1"
            ]
          },
          "execution_count": 149,
          "metadata": {},
          "output_type": "execute_result"
        }
      ],
      "source": [
        "spark.sql('SELECT DISTINCT userId FROM d_shows WHERE platform = \"APP_WINPHONE\"').count()"
      ]
    },
    {
      "cell_type": "code",
      "execution_count": null,
      "metadata": {
        "id": "nM_kaPTbpUiK",
        "outputId": "d15df527-f505-4709-f411-549f77d7aaca"
      },
      "outputs": [
        {
          "data": {
            "text/plain": [
              "200"
            ]
          },
          "execution_count": 277,
          "metadata": {},
          "output_type": "execute_result"
        }
      ],
      "source": [
        "spark.sql('SELECT DISTINCT userId FROM d_shows WHERE NOT (platform IS NULL)').count()"
      ]
    },
    {
      "cell_type": "markdown",
      "metadata": {
        "id": "YPV16mYHpUiK"
      },
      "source": [
        "**3.a Amount of unique users a day (Single query)**"
      ]
    },
    {
      "cell_type": "code",
      "execution_count": null,
      "metadata": {
        "id": "9ngPMWd0pUiK",
        "outputId": "9b32e47a-6528-4471-f200-22c7e963665a"
      },
      "outputs": [
        {
          "name": "stdout",
          "output_type": "stream",
          "text": [
            "+------------+------+\n",
            "|    platform|amount|\n",
            "+------------+------+\n",
            "|  MOBILE_WEB|    16|\n",
            "| APP_ANDROID|   114|\n",
            "|     APP_IOS|    26|\n",
            "| DESKTOP_WEB|    55|\n",
            "|APP_WINPHONE|     1|\n",
            "|     SUMMARY|   200|\n",
            "+------------+------+\n",
            "\n"
          ]
        }
      ],
      "source": [
        "spark.sql('SELECT DISTINCT platform, amount \\\n",
        "                         FROM (SELECT DISTINCT userId, platform, \\\n",
        "                         COUNT(*) OVER(PARTITION BY platform) AS amount \\\n",
        "                         FROM d_shows \\\n",
        "                         GROUP BY platform, userId) ').union(spark.sql(\n",
        "                        'SELECT  \"SUMMARY\", \\\n",
        "                         COUNT(DISTINCT userId) FROM d_shows')).show()"
      ]
    },
    {
      "cell_type": "markdown",
      "metadata": {
        "id": "LkKcWCSPpUiL"
      },
      "source": [
        "**3.b Unique authors**\n",
        "\n",
        "author == user | group"
      ]
    },
    {
      "cell_type": "code",
      "execution_count": null,
      "metadata": {
        "id": "RsEd9W6epUiL",
        "outputId": "1fa84905-55be-46e2-cd23-290ded099b8f"
      },
      "outputs": [
        {
          "name": "stdout",
          "output_type": "stream",
          "text": [
            "+--------------+------+\n",
            "|unique_authors|amount|\n",
            "+--------------+------+\n",
            "|unique_authors| 11218|\n",
            "+--------------+------+\n",
            "\n"
          ]
        }
      ],
      "source": [
        "spark.sql('SELECT \"unique_authors\", \\\n",
        "           COUNT(DISTINCT owners)  AS amount \\\n",
        "           FROM d_shows \\\n",
        "           WHERE (NOT owners.user IS NULL OR NOT owners.group IS NULL)').show()"
      ]
    },
    {
      "cell_type": "code",
      "execution_count": null,
      "metadata": {
        "id": "bwMkJa6CpUiL",
        "outputId": "7775aa07-6e1e-4efc-9ee7-9c4e156dc2ab"
      },
      "outputs": [
        {
          "name": "stdout",
          "output_type": "stream",
          "text": [
            "+------+------+\n",
            "|author|AMOUNT|\n",
            "+------+------+\n",
            "|author|  1703|\n",
            "|author|  9515|\n",
            "|author|     1|\n",
            "+------+------+\n",
            "\n"
          ]
        }
      ],
      "source": [
        "'''spark.sql('SELECT \"author\", COUNT(DISTINCT owners) AS AMOUNT \\\n",
        "           FROM d_shows \\\n",
        "           GROUP BY (NOT owners.group IS NULL AND owners.user IS NULL, \\\n",
        "           owners.group IS NULL AND owners.user IS NULL)').show()\n",
        "           '''\n"
      ]
    },
    {
      "cell_type": "markdown",
      "metadata": {
        "id": "uu8NI62ipUiL"
      },
      "source": [
        "**3.b Unique content**"
      ]
    },
    {
      "cell_type": "code",
      "execution_count": null,
      "metadata": {
        "id": "n0is0NfipUiL",
        "outputId": "80228078-3fe9-4cde-ed3e-f94375ff95aa"
      },
      "outputs": [
        {
          "name": "stdout",
          "output_type": "stream",
          "text": [
            "+--------------+------+\n",
            "|unique_content|amount|\n",
            "+--------------+------+\n",
            "|unique_content| 20684|\n",
            "+--------------+------+\n",
            "\n"
          ]
        }
      ],
      "source": [
        "spark.sql('SELECT \"unique_content\", COUNT(DISTINCT resources) AS amount FROM d_shows WHERE NOT resources IS NULL').show()"
      ]
    },
    {
      "cell_type": "markdown",
      "metadata": {
        "id": "KXb2M-SNpUiL"
      },
      "source": [
        "**3.c Amount of sessions**\n",
        "\n",
        "session = userId(*durationMs)  - entire duration on each userId a day"
      ]
    },
    {
      "cell_type": "markdown",
      "metadata": {
        "id": "v8zzSxHYpUiM"
      },
      "source": [
        "Session of each user a day"
      ]
    },
    {
      "cell_type": "code",
      "execution_count": null,
      "metadata": {
        "id": "D957lmvLpUiM",
        "outputId": "d4587434-b3b1-457b-b3b8-5c19f6e7fc0a"
      },
      "outputs": [
        {
          "name": "stdout",
          "output_type": "stream",
          "text": [
            "+------+------------+------------------+\n",
            "|userId|session_time|      avg_position|\n",
            "+------+------------+------------------+\n",
            "| 33862|     2284609| 58.17891373801917|\n",
            "| 18598|        2645|              null|\n",
            "| 36577|       98605|              4.25|\n",
            "| 29507|      229933| 5.285714285714286|\n",
            "| 35216|     1206127|51.129533678756474|\n",
            "|  3869|     1260359| 66.34202898550724|\n",
            "|  7540|   109181246|14.026315789473685|\n",
            "| 21293|     5825902|377.62985074626863|\n",
            "| 41801|       10000|              null|\n",
            "| 44220|      398594| 9.818181818181818|\n",
            "| 37105|      733676|               2.2|\n",
            "|  7759|    15201817| 25.64264264264264|\n",
            "| 39836|      285442| 8.117647058823529|\n",
            "| 46718|       10000|              null|\n",
            "|  3092|       82106|               5.5|\n",
            "|  3689|    43030533|25.707070707070706|\n",
            "| 13412|      202795| 24.88888888888889|\n",
            "| 33287|        7778|              null|\n",
            "|  7116|       14065|               1.0|\n",
            "| 20116|      265664|  9.19047619047619|\n",
            "+------+------------+------------------+\n",
            "only showing top 20 rows\n",
            "\n"
          ]
        }
      ],
      "source": [
        "new_df = spark.sql('SELECT DISTINCT userId, \\\n",
        "          SUM(durationMs) OVER(PARTITION BY userId) AS session_time, \\\n",
        "          AVG(position) OVER(PARTITION BY userId) AS avg_position \\\n",
        "          FROM d_shows')\n",
        "new_df.createOrReplaceTempView('user_metrics')\n",
        "new_df.show()"
      ]
    },
    {
      "cell_type": "markdown",
      "metadata": {
        "id": "F4TG54iQpUiM"
      },
      "source": [
        "Amount of sessions a day"
      ]
    },
    {
      "cell_type": "code",
      "execution_count": null,
      "metadata": {
        "id": "qjNxHEDYpUiM",
        "outputId": "28671b78-3e93-4153-e5fd-88989cfd9949"
      },
      "outputs": [
        {
          "name": "stdout",
          "output_type": "stream",
          "text": [
            "+------+\n",
            "|Amount|\n",
            "+------+\n",
            "|   198|\n",
            "+------+\n",
            "\n"
          ]
        }
      ],
      "source": [
        "spark.sql('SELECT COUNT(session_time) AS Amount FROM user_metrics').show()"
      ]
    },
    {
      "cell_type": "markdown",
      "metadata": {
        "id": "GSzeDHPppUiM"
      },
      "source": [
        "Average feed position a day"
      ]
    },
    {
      "cell_type": "code",
      "execution_count": null,
      "metadata": {
        "id": "ly0wArk8pUiR",
        "outputId": "face40c4-60e3-49ba-e894-dbabe8a602ea"
      },
      "outputs": [
        {
          "name": "stdout",
          "output_type": "stream",
          "text": [
            "+-----------------+\n",
            "| Average_position|\n",
            "+-----------------+\n",
            "|37.11351769402006|\n",
            "+-----------------+\n",
            "\n"
          ]
        }
      ],
      "source": [
        "spark.sql('SELECT AVG(avg_position) AS Average_position FROM user_metrics').show()"
      ]
    },
    {
      "cell_type": "markdown",
      "metadata": {
        "id": "vyWlxqtjpUiR"
      },
      "source": [
        "Average session time a day"
      ]
    },
    {
      "cell_type": "code",
      "execution_count": null,
      "metadata": {
        "id": "0SFTD21dpUiR",
        "outputId": "644efbd0-5b3b-42e7-d7de-0bce7ac1401f"
      },
      "outputs": [
        {
          "name": "stdout",
          "output_type": "stream",
          "text": [
            "+--------------------+\n",
            "|Average_session_time|\n",
            "+--------------------+\n",
            "|    4758256.51010101|\n",
            "+--------------------+\n",
            "\n"
          ]
        }
      ],
      "source": [
        "spark.sql('SELECT AVG(session_time) AS Average_session_time FROM user_metrics').show()"
      ]
    },
    {
      "cell_type": "markdown",
      "metadata": {
        "id": "_yG_H0NBpUiS"
      },
      "source": [
        "**3.d Feeds per user a day**"
      ]
    },
    {
      "cell_type": "code",
      "execution_count": null,
      "metadata": {
        "id": "kk8gAT2FpUiS",
        "outputId": "4a7fad56-621a-45be-9914-746e16849b46"
      },
      "outputs": [
        {
          "name": "stdout",
          "output_type": "stream",
          "text": [
            "+------+------+\n",
            "|userId|amount|\n",
            "+------+------+\n",
            "|  7572|  1398|\n",
            "| 18371|  1212|\n",
            "| 51770|   995|\n",
            "|  8812|   875|\n",
            "| 39935|   871|\n",
            "| 44407|   853|\n",
            "| 56665|   769|\n",
            "| 44552|   674|\n",
            "| 52525|   669|\n",
            "| 14597|   644|\n",
            "| 50581|   606|\n",
            "| 29726|   606|\n",
            "| 37401|   578|\n",
            "| 50802|   572|\n",
            "|  4795|   565|\n",
            "| 50302|   555|\n",
            "|  9058|   552|\n",
            "| 46047|   548|\n",
            "| 51996|   531|\n",
            "| 27444|   519|\n",
            "+------+------+\n",
            "only showing top 20 rows\n",
            "\n"
          ]
        }
      ],
      "source": [
        "spark.sql('SELECT DISTINCT userId, \\\n",
        "           COUNT(*) OVER (PARTITION BY userId) AS amount \\\n",
        "           FROM d_shows  \\\n",
        "           ORDER BY amount DESC').show()"
      ]
    }
  ],
  "metadata": {
    "kernelspec": {
      "display_name": "Python 3",
      "language": "python",
      "name": "python3"
    },
    "language_info": {
      "codemirror_mode": {
        "name": "ipython",
        "version": 3
      },
      "file_extension": ".py",
      "mimetype": "text/x-python",
      "name": "python",
      "nbconvert_exporter": "python",
      "pygments_lexer": "ipython3",
      "version": "3.8.8"
    },
    "toc-autonumbering": true,
    "toc-showcode": true,
    "toc-showmarkdowntxt": true,
    "colab": {
      "provenance": [],
      "include_colab_link": true
    }
  },
  "nbformat": 4,
  "nbformat_minor": 0
}